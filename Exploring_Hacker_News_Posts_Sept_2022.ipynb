{
 "cells": [
  {
   "cell_type": "markdown",
   "metadata": {},
   "source": [
    "# Hacker News"
   ]
  },
  {
   "cell_type": "markdown",
   "metadata": {},
   "source": [
    "## Project Description"
   ]
  },
  {
   "cell_type": "markdown",
   "metadata": {},
   "source": [
    "Hacker News is a site started by the startup incubator Y Combinator, where user-submitted stories (or \"posts\") receive votes and comments, similar to reddit. Hacker News is extremely popular in technology and startup circles, and posts that make it to the top of the Hacker News listings can get hundreds of thousands of visitors as a result.\n",
    "\n",
    "Our questions:\n",
    "* Do Ask HN or Show HN receive more comments on average?\n",
    "* Do posts created at a certain time receive more comments on average?\n",
    "\n",
    "We will use a [Hacker News data set](https://www.kaggle.com/hacker-news/hacker-news-posts) from 2016 to examine these questions with the aim of finding the best kind of question and time to post to receive the largest amount of feedback.\n"
   ]
  },
  {
   "cell_type": "markdown",
   "metadata": {},
   "source": [
    "## Import Data Set"
   ]
  },
  {
   "cell_type": "markdown",
   "metadata": {},
   "source": [
    "First, we'll import the data, creating separate objects to hold the header and the data proper."
   ]
  },
  {
   "cell_type": "code",
   "execution_count": 1,
   "metadata": {
    "scrolled": true
   },
   "outputs": [],
   "source": [
    "from csv import reader\n",
    "opened_file = open(\"../Datasets/HN_posts_year_to_Sep_26_2016.csv\", encoding = 'utf-8')\n",
    "read_file = reader(opened_file)\n",
    "hn = list(read_file)\n",
    "header = hn[0]\n",
    "hn = hn[1:]\n"
   ]
  },
  {
   "cell_type": "markdown",
   "metadata": {},
   "source": [
    "### Data set description: \n",
    "* `id`: the unique identifier from Hacker News for the post\n",
    "* `title`: the title of the post\n",
    "* `url`: the URL that the posts links to, if the post has a URL\n",
    "* `num_points`: the number of points the post acquired, calculated as the total number of upvotes minus the total number of downvotes\n",
    "* `num_comments`: the number of comments on the post\n",
    "* `author`: the username of the person who submitted the post\n",
    "* `created_at`: the date and time of the post's submission\n"
   ]
  },
  {
   "cell_type": "markdown",
   "metadata": {},
   "source": [
    "## Defining Key Functions"
   ]
  },
  {
   "cell_type": "markdown",
   "metadata": {},
   "source": [
    "We'll want to explore the data often as we clean it and before we analyze it, so let's define a function to do that. It will help us visualize it and to see how many rows and columns we have."
   ]
  },
  {
   "cell_type": "code",
   "execution_count": 2,
   "metadata": {},
   "outputs": [],
   "source": [
    "def explore_data(dataset, start=0, end=1, nrow_ncol=False):\n",
    "    dataset_slice = dataset[start:end]    \n",
    "    for row in dataset_slice:\n",
    "        print(row)\n",
    "        print('\\n') # adds a new (empty) line after each row\n",
    "\n",
    "    if nrow_ncol:\n",
    "        print('Number of rows:', len(dataset))\n",
    "        print('Number of columns:', len(dataset[0]))"
   ]
  },
  {
   "cell_type": "markdown",
   "metadata": {},
   "source": [
    "## Inspecting the Data"
   ]
  },
  {
   "cell_type": "markdown",
   "metadata": {},
   "source": [
    "Let's now look at the data set that we start out with. How large is it and what do the data look like?"
   ]
  },
  {
   "cell_type": "code",
   "execution_count": 3,
   "metadata": {},
   "outputs": [
    {
     "name": "stdout",
     "output_type": "stream",
     "text": [
      "Header\n",
      "['id', 'title', 'url', 'num_points', 'num_comments', 'author', 'created_at']\n",
      "\n",
      "Data Sample\n",
      "['12579008', 'You have two days to comment if you want stem cells to be classified as your own', 'http://www.regulations.gov/document?D=FDA-2015-D-3719-0018', '1', '0', 'altstar', '9/26/2016 3:26']\n",
      "\n",
      "\n",
      "['12579005', 'SQLAR  the SQLite Archiver', 'https://www.sqlite.org/sqlar/doc/trunk/README.md', '1', '0', 'blacksqr', '9/26/2016 3:24']\n",
      "\n",
      "\n",
      "['12578997', 'What if we just printed a flatscreen television on the side of our boxes?', 'https://medium.com/vanmoof/our-secrets-out-f21c1f03fdc8#.ietxmez43', '1', '0', 'pavel_lishin', '9/26/2016 3:19']\n",
      "\n",
      "\n",
      "['12578989', 'algorithmic music', 'http://cacm.acm.org/magazines/2011/7/109891-algorithmic-composition/fulltext', '1', '0', 'poindontcare', '9/26/2016 3:16']\n",
      "\n",
      "\n",
      "['12578979', 'How the Data Vault Enables the Next-Gen Data Warehouse and Data Lake', 'https://www.talend.com/blog/2016/05/12/talend-and-Â\\x93the-data-vaultÂ\\x94', '1', '0', 'markgainor1', '9/26/2016 3:14']\n",
      "\n",
      "\n",
      "Number of rows: 293119\n",
      "Number of columns: 7\n"
     ]
    }
   ],
   "source": [
    "print('Header')\n",
    "print(header)\n",
    "print('\\n' + 'Data Sample')\n",
    "explore_data(hn, 0, 5, nrow_ncol=True)"
   ]
  },
  {
   "cell_type": "markdown",
   "metadata": {},
   "source": [
    "## Cleaning the Data"
   ]
  },
  {
   "cell_type": "markdown",
   "metadata": {},
   "source": [
    "### Removing Data Without Comments "
   ]
  },
  {
   "cell_type": "markdown",
   "metadata": {},
   "source": [
    "Because we care about maximizing the number of comments we'll receive, we only want to consider the situation where we actually receive comments. Therefore, we will remove rows from the data if post received no comments and then re-assess the size of the data set."
   ]
  },
  {
   "cell_type": "code",
   "execution_count": 4,
   "metadata": {},
   "outputs": [
    {
     "name": "stdout",
     "output_type": "stream",
     "text": [
      "['12578975', 'Saving the Hassle of Shopping', 'https://blog.menswr.com/2016/09/07/whats-new-with-your-style-feed/', '1', '1', 'bdoux', '9/26/2016 3:13']\n",
      "\n",
      "\n",
      "['12578908', 'Ask HN: What TLD do you use for local development?', '', '4', '7', 'Sevrene', '9/26/2016 2:53']\n",
      "\n",
      "\n",
      "['12578822', 'Amazons Algorithms Dont Find You the Best Deals', 'https://www.technologyreview.com/s/602442/amazons-algorithms-dont-find-you-the-best-deals/', '1', '1', 'yarapavan', '9/26/2016 2:26']\n",
      "\n",
      "\n",
      "['12578694', 'Emergency dose of epinephrine that does not cost an arm and a leg', 'http://m.imgur.com/gallery/th6Ua', '2', '1', 'dredmorbius', '9/26/2016 1:54']\n",
      "\n",
      "\n",
      "['12578624', 'Phone Makers Could Cut Off Drivers. So Why Dont They?', 'http://www.nytimes.com/2016/09/25/technology/phone-makers-could-cut-off-drivers-so-why-dont-they.html', '4', '1', 'danso', '9/26/2016 1:37']\n",
      "\n",
      "\n",
      "Number of rows: 80401\n",
      "Number of columns: 7\n"
     ]
    }
   ],
   "source": [
    "hn_clean_1 = []\n",
    "hn_no_comments = []\n",
    "\n",
    "for row in hn:\n",
    "    n_comm = int(row[4])\n",
    "    if n_comm != 0:\n",
    "        hn_clean_1.append(row)\n",
    "    else:\n",
    "        hn_no_comments.append(row)\n",
    "        \n",
    "explore_data(hn_clean_1, 0, 5, nrow_ncol = True)"
   ]
  },
  {
   "cell_type": "markdown",
   "metadata": {},
   "source": [
    "Roughly 213,000 posts had no comments and were removed. That's quite a few! We might ask later whether our expectations on the number of comments we receive should be tempered by the number of posts that receive no comments at the same time with the same question format."
   ]
  },
  {
   "cell_type": "markdown",
   "metadata": {},
   "source": [
    "### Taking a Random Sample"
   ]
  },
  {
   "cell_type": "markdown",
   "metadata": {},
   "source": [
    "The guided Dataquest project that prompted this project slimmed down the size of the data set with comments to 20,000 entries. Presumably, this was done to minimize the computational power and time required. Such slimming is not necessary here, but we will do so regardless for practice in taking random samples. This data set will not be used in further analyses."
   ]
  },
  {
   "cell_type": "code",
   "execution_count": 5,
   "metadata": {},
   "outputs": [
    {
     "name": "stdout",
     "output_type": "stream",
     "text": [
      "['11563714', 'Chart.js 2.0 Released', 'http://www.chartjs.org/', '332', '75', 'etimberg', '4/25/2016 12:16']\n",
      "\n",
      "\n",
      "['11296998', 'Saving Hundreds of Hours with Google Compute Engine Per-Minute Billing', 'http://omerio.com/2016/03/16/saving-hundreds-of-hours-with-google-compute-engine-per-minute-billing/', '138', '75', 'izzym', '3/16/2016 13:17']\n",
      "\n",
      "\n",
      "['12124983', 'How do we balance free speech and privacy against the safety of visible women?', 'http://www.bbc.co.uk/news/world-asia-36824514', '3', '1', 'CarolineW', '7/19/2016 21:17']\n",
      "\n",
      "\n",
      "['10930104', 'Ask HN: How to govern identity in online forums?', '', '2', '7', 'austinjp', '1/19/2016 11:55']\n",
      "\n",
      "\n",
      "['10636868', \"Merge branch 'tcp-lockless-listener'\", 'http://git.kernel.org/cgit/linux/kernel/git/torvalds/linux.git/commit/?id=c3fc7ac9a0b978ee8538058743d21feef25f7b33', '40', '6', 'signa11', '11/27/2015 11:43']\n",
      "\n",
      "\n",
      "Number of rows: 20000\n",
      "Number of columns: 7\n"
     ]
    }
   ],
   "source": [
    "import random\n",
    "\n",
    "sample_size = 20000\n",
    "random.seed(4)\n",
    "hn_clean_2 = random.sample(hn_clean_1, sample_size)\n",
    "\n",
    "explore_data(hn_clean_2, 0, 5, nrow_ncol = True)"
   ]
  },
  {
   "cell_type": "markdown",
   "metadata": {},
   "source": [
    "### Subset \"Ask HN\", \"Show HN\", and Other Rows"
   ]
  },
  {
   "cell_type": "markdown",
   "metadata": {},
   "source": [
    "Users submit \"Ask HN\" posts to ask the Hacker News community a specific question or show the Hacker News community a project, product, or something interesting. We want to compare the number of comments received by \"Ask HN\" and \"Show HN\" posts, so we'll separate these into different lists to inspect them. We'll make sure to convert all post titles to lowercase in case all users did not use the same capitalization style."
   ]
  },
  {
   "cell_type": "code",
   "execution_count": 6,
   "metadata": {},
   "outputs": [
    {
     "name": "stdout",
     "output_type": "stream",
     "text": [
      "['12578908', 'Ask HN: What TLD do you use for local development?', '', '4', '7', 'Sevrene', '9/26/2016 2:53']\n",
      "\n",
      "\n",
      "['12578522', 'Ask HN: How do you pass on your work when you die?', '', '6', '3', 'PascLeRasc', '9/26/2016 1:17']\n",
      "\n",
      "\n",
      "['12577870', 'Ask HN: Why join a fund when you can be an angel?', '', '1', '3', 'anthony_james', '9/25/2016 22:48']\n",
      "\n",
      "\n",
      "Number of rows: 6911\n",
      "Number of columns: 7\n",
      "\n",
      "\n",
      "['12577142', 'Show HN: Jumble  Essays on the go #PaulInYourPocket', 'https://itunes.apple.com/us/app/jumble-find-startup-essay/id1150939197?ls=1&mt=8', '1', '1', 'ryderj', '9/25/2016 20:06']\n",
      "\n",
      "\n",
      "['12576813', 'Show HN: Learn Japanese Vocab via multiple choice questions', 'http://japanese.vul.io/', '1', '1', 'soulchild37', '9/25/2016 19:06']\n",
      "\n",
      "\n",
      "['12576090', 'Show HN: Markov chain Twitter bot. Trained on comments left on Pornhub', 'https://twitter.com/botsonasty', '3', '1', 'keepingscore', '9/25/2016 16:50']\n",
      "\n",
      "\n",
      "Number of rows: 5059\n",
      "Number of columns: 7\n",
      "\n",
      "\n",
      "['12578975', 'Saving the Hassle of Shopping', 'https://blog.menswr.com/2016/09/07/whats-new-with-your-style-feed/', '1', '1', 'bdoux', '9/26/2016 3:13']\n",
      "\n",
      "\n",
      "['12578822', 'Amazons Algorithms Dont Find You the Best Deals', 'https://www.technologyreview.com/s/602442/amazons-algorithms-dont-find-you-the-best-deals/', '1', '1', 'yarapavan', '9/26/2016 2:26']\n",
      "\n",
      "\n",
      "['12578694', 'Emergency dose of epinephrine that does not cost an arm and a leg', 'http://m.imgur.com/gallery/th6Ua', '2', '1', 'dredmorbius', '9/26/2016 1:54']\n",
      "\n",
      "\n",
      "Number of rows: 68431\n",
      "Number of columns: 7\n"
     ]
    }
   ],
   "source": [
    "ask_posts = []\n",
    "show_posts = []\n",
    "other_posts = []\n",
    "\n",
    "for row in hn_clean_1:\n",
    "    title = row[1]\n",
    "    title_low = title.lower()\n",
    "    #print(title_low)\n",
    "    if title_low.startswith('ask hn'):\n",
    "        ask_posts.append(row)\n",
    "    elif title_low.startswith('show hn'):\n",
    "        show_posts.append(row)\n",
    "    else:\n",
    "        other_posts.append(row)\n",
    "    \n",
    "    #'dataquest'.startswith('Data'))\n",
    "explore_data(ask_posts, 0, 3, nrow_ncol = True); print('\\n')\n",
    "explore_data(show_posts, 0, 3, nrow_ncol = True); print('\\n')\n",
    "explore_data(other_posts, 0, 3, nrow_ncol = True)"
   ]
  },
  {
   "cell_type": "markdown",
   "metadata": {},
   "source": [
    "There are 6911 \"Ask HN\" posts and 5059 \"Show HN\" posts to work with. This is a fairly small subset of the ~80,000 posts in the data set, but we care about these because they are directly aimed at the full community and may therefore be more broadly impactfull--less niche."
   ]
  },
  {
   "cell_type": "markdown",
   "metadata": {},
   "source": [
    "## Describe the Number of Comments for \"Ask HN\" and \"Show HN\" Posts"
   ]
  },
  {
   "cell_type": "markdown",
   "metadata": {},
   "source": [
    "### Description of the Full Data Sets"
   ]
  },
  {
   "cell_type": "markdown",
   "metadata": {},
   "source": [
    "First, we'll define a function that we can use to count the comments in each data set and make a data set that can be used for statistics and plotting."
   ]
  },
  {
   "cell_type": "code",
   "execution_count": 7,
   "metadata": {},
   "outputs": [],
   "source": [
    "def count_comments(dataset):\n",
    "    total_comments = 0\n",
    "    all_comments = []\n",
    "    \n",
    "    for row in dataset:\n",
    "        n_comm = int(row[4])\n",
    "        total_comments += n_comm\n",
    "        all_comments.append(n_comm)\n",
    "        \n",
    "    return total_comments, all_comments"
   ]
  },
  {
   "cell_type": "code",
   "execution_count": 8,
   "metadata": {},
   "outputs": [
    {
     "name": "stdout",
     "output_type": "stream",
     "text": [
      "94986\n",
      "49633\n"
     ]
    }
   ],
   "source": [
    "total_ask_comments, all_ask_comments = count_comments(ask_posts)\n",
    "total_show_comments, all_show_comments = count_comments(show_posts)\n",
    "\n",
    "print(total_ask_comments)\n",
    "print(total_show_comments)"
   ]
  },
  {
   "cell_type": "markdown",
   "metadata": {},
   "source": [
    "Unsurprisingly, the total number of comments is larger for \"Ask HN\" posts, which there are more of. This is why it is important that we are taking the average number of comments per post.\n",
    "\n",
    "Let's plot the data from the two groups to see what the distribution of comment numbers looks like for \"Ask HN\" and \"Show HN\" posts. We'll create a combined data set and then plot it."
   ]
  },
  {
   "cell_type": "code",
   "execution_count": 9,
   "metadata": {},
   "outputs": [
    {
     "name": "stdout",
     "output_type": "stream",
     "text": [
      "    Label  Comments\n",
      "0  Ask HN         7\n",
      "1  Ask HN         3\n",
      "2  Ask HN         3\n",
      "3  Ask HN         2\n",
      "4  Ask HN         1\n"
     ]
    }
   ],
   "source": [
    "import seaborn as sb\n",
    "import pandas as pd\n",
    "\n",
    "ask_label = [\"Ask HN\"] * len(all_ask_comments)\n",
    "show_label = [\"Show HN\"] * len(all_show_comments)\n",
    "ask_show_label = ask_label + show_label\n",
    "ask_show_data = all_ask_comments + all_show_comments\n",
    "\n",
    "ask_show_df = pd.DataFrame(list(zip(ask_show_label, ask_show_data)), columns =['Label', 'Comments'])\n",
    "print(ask_show_df.head())\n"
   ]
  },
  {
   "cell_type": "code",
   "execution_count": 10,
   "metadata": {
    "scrolled": true
   },
   "outputs": [
    {
     "data": {
      "text/plain": [
       "<AxesSubplot:xlabel='Label', ylabel='Comments'>"
      ]
     },
     "execution_count": 10,
     "metadata": {},
     "output_type": "execute_result"
    },
    {
     "data": {
      "image/png": "[encoded data removed]",
      "text/plain": [
       "<Figure size 432x288 with 1 Axes>"
      ]
     },
     "metadata": {},
     "output_type": "display_data"
    }
   ],
   "source": [
    "sb.set(style = 'whitegrid')\n",
    "sb.violinplot(x = \"Label\",\n",
    "             y = \"Comments\",\n",
    "             data = ask_show_df)"
   ]
  },
  {
   "cell_type": "markdown",
   "metadata": {},
   "source": [
    "The violin plot is usually nice, but here there are many extreme values and we cannot tell how many points cover the range from the large bulk to the extremes. Thus, we'll also make a boxplot."
   ]
  },
  {
   "cell_type": "code",
   "execution_count": 11,
   "metadata": {},
   "outputs": [
    {
     "data": {
      "text/plain": [
       "<AxesSubplot:title={'center':'Comments'}, xlabel='Label'>"
      ]
     },
     "execution_count": 11,
     "metadata": {},
     "output_type": "execute_result"
    },
    {
     "data": {
      "image/png": "[encoded data removed]",
      "text/plain": [
       "<Figure size 432x288 with 1 Axes>"
      ]
     },
     "metadata": {},
     "output_type": "display_data"
    }
   ],
   "source": [
    "ask_show_df.boxplot(by ='Label', column ='Comments')"
   ]
  },
  {
   "cell_type": "markdown",
   "metadata": {},
   "source": [
    "It looks like there are quite a few extreme values in both data sets, where the extremes are much larger in \"Ask HN\" posts. We'll have another look at the numbers, this time with a histogram for each kind of post to gather the numbers into larger bins and compress the graph."
   ]
  },
  {
   "cell_type": "code",
   "execution_count": 12,
   "metadata": {},
   "outputs": [
    {
     "data": {
      "text/plain": [
       "array([<AxesSubplot:title={'center':'Ask HN'}>,\n",
       "       <AxesSubplot:title={'center':'Show HN'}>], dtype=object)"
      ]
     },
     "execution_count": 12,
     "metadata": {},
     "output_type": "execute_result"
    },
    {
     "data": {
      "image/png": "[encoded data removed]",
      "text/plain": [
       "<Figure size 432x288 with 2 Axes>"
      ]
     },
     "metadata": {},
     "output_type": "display_data"
    }
   ],
   "source": [
    "ask_show_df.hist(by ='Label', column ='Comments', sharey = True, sharex = True)"
   ]
  },
  {
   "cell_type": "markdown",
   "metadata": {},
   "source": [
    "The histogram shows, as the violin plot and boxplot do, that the majority of posts in both data sets get very few comments, but there are a larger amount of \"Ask HN\" posts with a very high numbers of comments. Interestingly, the boxplot shows that it's not just one or two outliers with high values but a range of posts with 400 to 1000 comments, whereas \"Show HN\" posts have a maximum number of comments just over 300.\n",
    "\n",
    "These results suggest that making an \"Ask HN\" post would be more likely to get an extreme number of comments, though the overall likelihood of this is quite low. We will now compare the average number of comments per posts, which we can see will be affected by the extreme values in the number of comments for \"Ask HN\" posts."
   ]
  },
  {
   "cell_type": "code",
   "execution_count": 13,
   "metadata": {},
   "outputs": [
    {
     "name": "stdout",
     "output_type": "stream",
     "text": [
      "13.74\n",
      "9.81\n"
     ]
    }
   ],
   "source": [
    "avg_ask_comments = total_ask_comments / len(ask_posts)\n",
    "avg_show_comments = total_show_comments / len(show_posts)\n",
    "\n",
    "print(round(avg_ask_comments, 2))\n",
    "print(round(avg_show_comments, 2))"
   ]
  },
  {
   "cell_type": "code",
   "execution_count": 14,
   "metadata": {},
   "outputs": [
    {
     "name": "stdout",
     "output_type": "stream",
     "text": [
      "49.57\n",
      "21.81\n"
     ]
    }
   ],
   "source": [
    "import statistics as stats\n",
    "\n",
    "sd_ask_comments = stats.stdev(all_ask_comments)\n",
    "sd_show_comments = stats.stdev(all_show_comments)\n",
    "\n",
    "print(round(sd_ask_comments, 2))\n",
    "print(round(sd_show_comments, 2))"
   ]
  },
  {
   "cell_type": "markdown",
   "metadata": {},
   "source": [
    "The average number of comments per post, as we determined above differs, with \"Ask HN\" posts showing more comments on average (13.74) than \"Show HN\" posts (9.81). However, the number of comments also varies most strongly among \"Ask HN\" (SD = 49.57), per the extreme values cited above. This is in contrast to the smaller variation in \"Show HN\" comments (SD = 21.81). We want to do some stats on these averages to see if the differences are really meaningful. Let's run a simple independent t-test on \"Ask HN\" and \"Show HN\" posts."
   ]
  },
  {
   "cell_type": "code",
   "execution_count": 15,
   "metadata": {},
   "outputs": [
    {
     "name": "stdout",
     "output_type": "stream",
     "text": [
      "Ask HN vs. Show HN: \n",
      "t = 5.87 p = 0.0\n"
     ]
    }
   ],
   "source": [
    "import scipy.stats\n",
    "\n",
    "ask_show_t = scipy.stats.ttest_ind(all_ask_comments, all_show_comments, equal_var = False) \n",
    "\n",
    "print(\"Ask HN vs. Show HN: \\n\" + \\\n",
    "        \"t = \" + str(round(ask_show_t[0], 2)) + \\\n",
    "         \" p = \" + str(round(ask_show_t[1]/3, 4)))"
   ]
  },
  {
   "cell_type": "markdown",
   "metadata": {},
   "source": [
    "The statistics reinforce our conclusion from above: the average number of comments per post is higher for \"Ask HN\" posts (15.35) than \"Show HN\" posts. This result suggests that posting \"Ask HN\" would be likely to receive more responses. \n",
    "\n",
    "However, since any one post is unlikely to receive an extreme amount of comments (350-1000), it might be nice if we restricted the \"Ask HN\" data set to include the same maximum as the \"Show HN\" set and see whether it would still net more comments to post \"Ask HN\". Thus, we'll cut the \"Ask HN\" and check the results."
   ]
  },
  {
   "cell_type": "markdown",
   "metadata": {},
   "source": [
    "### Ask HN vs. Show HN with the Same Comment Number Range"
   ]
  },
  {
   "cell_type": "markdown",
   "metadata": {},
   "source": [
    "First, let's find the max number of \"Show HN\" comments and restrict the \"Ask HN\" data set by that."
   ]
  },
  {
   "cell_type": "code",
   "execution_count": 16,
   "metadata": {},
   "outputs": [
    {
     "name": "stdout",
     "output_type": "stream",
     "text": [
      "Maximum # of 'Show HN' Comments:306\n",
      "# of rows in restricted 'Ask HN' data set: 6880\n"
     ]
    }
   ],
   "source": [
    "total_ask_comments, all_ask_comments = count_comments(ask_posts)\n",
    "total_show_comments, all_show_comments = count_comments(show_posts)\n",
    "\n",
    "max_show = max(all_show_comments)\n",
    "print(\"Maximum # of 'Show HN' Comments:\" + str(max_show))\n",
    "\n",
    "all_ask_restricted = []\n",
    "total_ask_restricted = []\n",
    "\n",
    "for num in all_ask_comments:\n",
    "    if num <= max_show:\n",
    "        all_ask_restricted.append(num)\n",
    "        \n",
    "print(\"# of rows in restricted 'Ask HN' data set: \" + str(len(all_ask_restricted)))"
   ]
  },
  {
   "cell_type": "markdown",
   "metadata": {},
   "source": [
    " As seen above, not too many posts had extreme values--only about 30.\n",
    " \n",
    " Now, let's take the average again and plot the data in the same ways."
   ]
  },
  {
   "cell_type": "code",
   "execution_count": 17,
   "metadata": {},
   "outputs": [
    {
     "name": "stdout",
     "output_type": "stream",
     "text": [
      "Ask HN:  11.02\n",
      "Show HN:  9.81\n"
     ]
    }
   ],
   "source": [
    "sum_ask_restricted = sum(all_ask_restricted)\n",
    "avg_ask_restricted = sum_ask_restricted / len(all_ask_restricted)\n",
    "\n",
    "print(\"Ask HN: \", str(round(avg_ask_restricted, 2)))\n",
    "print(\"Show HN: \", str(round(avg_show_comments, 2)))"
   ]
  },
  {
   "cell_type": "markdown",
   "metadata": {},
   "source": [
    "It looks like the difference in the average number of comments is maintained. Let's plot them."
   ]
  },
  {
   "cell_type": "code",
   "execution_count": 18,
   "metadata": {},
   "outputs": [
    {
     "name": "stdout",
     "output_type": "stream",
     "text": [
      "    Label  Comments\n",
      "0  Ask HN         7\n",
      "1  Ask HN         3\n",
      "2  Ask HN         3\n",
      "3  Ask HN         2\n",
      "4  Ask HN         1\n"
     ]
    }
   ],
   "source": [
    "ask_label_restr = [\"Ask HN\"] * len(all_ask_restricted)\n",
    "ask_show_label_restr = ask_label_restr + show_label\n",
    "ask_show_data_restr = all_ask_restricted + all_show_comments\n",
    "\n",
    "ask_show_restr_df = pd.DataFrame(list(zip(ask_show_label_restr, ask_show_data_restr)), columns =['Label', 'Comments'])\n",
    "print(ask_show_restr_df.head())"
   ]
  },
  {
   "cell_type": "code",
   "execution_count": 19,
   "metadata": {
    "scrolled": true
   },
   "outputs": [
    {
     "data": {
      "text/plain": [
       "<AxesSubplot:xlabel='Label', ylabel='Comments'>"
      ]
     },
     "execution_count": 19,
     "metadata": {},
     "output_type": "execute_result"
    },
    {
     "data": {
      "image/png": "[encoded data removed]",
      "text/plain": [
       "<Figure size 432x288 with 1 Axes>"
      ]
     },
     "metadata": {},
     "output_type": "display_data"
    }
   ],
   "source": [
    "sb.set(style = 'whitegrid')\n",
    "sb.violinplot(x = \"Label\",\n",
    "             y = \"Comments\",\n",
    "             data = ask_show_restr_df)"
   ]
  },
  {
   "cell_type": "markdown",
   "metadata": {},
   "source": [
    "The violin plots look much more similar without the very extreme values."
   ]
  },
  {
   "cell_type": "code",
   "execution_count": 20,
   "metadata": {
    "scrolled": true
   },
   "outputs": [
    {
     "data": {
      "text/plain": [
       "<AxesSubplot:title={'center':'Comments'}, xlabel='Label'>"
      ]
     },
     "execution_count": 20,
     "metadata": {},
     "output_type": "execute_result"
    },
    {
     "data": {
      "image/png": "[encoded data removed]",
      "text/plain": [
       "<Figure size 432x288 with 1 Axes>"
      ]
     },
     "metadata": {},
     "output_type": "display_data"
    }
   ],
   "source": [
    "ask_show_restr_df.boxplot(by ='Label', column ='Comments')"
   ]
  },
  {
   "cell_type": "code",
   "execution_count": 21,
   "metadata": {
    "scrolled": true
   },
   "outputs": [
    {
     "data": {
      "text/plain": [
       "array([<AxesSubplot:title={'center':'Ask HN'}>,\n",
       "       <AxesSubplot:title={'center':'Show HN'}>], dtype=object)"
      ]
     },
     "execution_count": 21,
     "metadata": {},
     "output_type": "execute_result"
    },
    {
     "data": {
      "image/png": "[encoded data removed]",
      "text/plain": [
       "<Figure size 432x288 with 2 Axes>"
      ]
     },
     "metadata": {},
     "output_type": "display_data"
    }
   ],
   "source": [
    "ask_show_restr_df.hist(by ='Label', column ='Comments', sharey = True, sharex = True)"
   ]
  },
  {
   "cell_type": "markdown",
   "metadata": {},
   "source": [
    "The boxplot and histogram show that there are still a larger number of extreme comments in \"Ask HN\" posts, even with the restricted range. If we look closesly at the boxplot, the third quartile reaches higher for \"Ask HN\" posts as well. Let's do our final statistics to make sure."
   ]
  },
  {
   "cell_type": "code",
   "execution_count": 22,
   "metadata": {},
   "outputs": [
    {
     "name": "stdout",
     "output_type": "stream",
     "text": [
      "Ask HN vs. Show HN: \n",
      "t = 2.84 p = 0.0015\n"
     ]
    }
   ],
   "source": [
    "ask_show_t = scipy.stats.ttest_ind(all_ask_restricted, all_show_comments, equal_var = False) \n",
    "\n",
    "print(\"Ask HN vs. Show HN: \\n\" + \\\n",
    "        \"t = \" + str(round(ask_show_t[0], 2)) + \\\n",
    "         \" p = \" + str(round(ask_show_t[1]/3, 4)))"
   ]
  },
  {
   "cell_type": "markdown",
   "metadata": {},
   "source": [
    "The difference in the average number of comments for \"Ask HN\" and \"Show HN\" posts is still statistically significant, even when they are restricted to the same range of number of comments. This finalizes the fact that we should make an \"Ask HN\" post to maximize the response."
   ]
  },
  {
   "cell_type": "markdown",
   "metadata": {},
   "source": [
    "### Does Time of Day Influence Number of Comments?"
   ]
  },
  {
   "cell_type": "markdown",
   "metadata": {},
   "source": [
    "Now that we know that we want to make an \"Ask HN\" post, we should figure out *when* we should make the post. To do this, we'll get the average number of comments in the \"Ask HN\" data set per hour of day. \n",
    "\n",
    "First, we'll create a simplified data set with only what we want, and then we'll make frequency tables of the comments by hour and counts by hour to make an average."
   ]
  },
  {
   "cell_type": "markdown",
   "metadata": {},
   "source": [
    "Simplified data set:"
   ]
  },
  {
   "cell_type": "code",
   "execution_count": 23,
   "metadata": {},
   "outputs": [
    {
     "name": "stdout",
     "output_type": "stream",
     "text": [
      "[['9/26/2016 2:53', 7], ['9/26/2016 1:17', 3], ['9/25/2016 22:48', 3], ['9/25/2016 21:50', 2], ['9/25/2016 19:30', 1]]\n"
     ]
    }
   ],
   "source": [
    "import datetime as dt\n",
    "\n",
    "result_list = []\n",
    "\n",
    "for row in ask_posts:\n",
    "    n_comm = int(row[4])\n",
    "    created_at = row[-1]\n",
    "    result_list.append([created_at, n_comm])\n",
    "    \n",
    "print(result_list[:5])"
   ]
  },
  {
   "cell_type": "markdown",
   "metadata": {},
   "source": [
    "Frequency tables:"
   ]
  },
  {
   "cell_type": "code",
   "execution_count": 24,
   "metadata": {},
   "outputs": [
    {
     "name": "stdout",
     "output_type": "stream",
     "text": [
      "{'02': 227, '01': 223, '22': 287, '21': 407, '19': 420, '17': 404, '15': 467, '14': 378, '13': 326, '11': 251, '10': 219, '09': 176, '07': 157, '03': 212, '16': 415, '08': 190, '00': 231, '23': 276, '20': 392, '18': 452, '12': 274, '04': 186, '06': 176, '05': 165}\n",
      "{'02': 2996, '01': 2089, '22': 3372, '21': 4500, '19': 3954, '17': 5547, '15': 18525, '14': 4972, '13': 7245, '11': 2797, '10': 3013, '09': 1477, '07': 1585, '03': 2154, '16': 4466, '08': 2362, '00': 2277, '23': 2297, '20': 4462, '18': 4877, '12': 4234, '04': 2360, '06': 1587, '05': 1838}\n"
     ]
    }
   ],
   "source": [
    "counts_by_hour = {}\n",
    "comments_by_hour = {}\n",
    "\n",
    "for row in result_list:\n",
    "    n_comm = int(row[1])\n",
    "    created_at = row[0]\n",
    "    created_at = dt.datetime.strptime(created_at, \"%m/%d/%Y %H:%M\")\n",
    "    #print(created_at)\n",
    "    #created_hour = created_at.hour\n",
    "    created_hour = created_at.strftime(\"%H\")\n",
    "    #print(created_hour)\n",
    "    if created_hour in counts_by_hour:\n",
    "        counts_by_hour[created_hour] += 1\n",
    "        comments_by_hour[created_hour] += n_comm\n",
    "    else:\n",
    "        counts_by_hour[created_hour] = 1\n",
    "        comments_by_hour[created_hour] = n_comm\n",
    "        \n",
    "print(counts_by_hour)\n",
    "print(comments_by_hour)\n",
    "    "
   ]
  },
  {
   "cell_type": "markdown",
   "metadata": {},
   "source": [
    "Taking the averages by hour:"
   ]
  },
  {
   "cell_type": "code",
   "execution_count": 25,
   "metadata": {},
   "outputs": [
    {
     "name": "stdout",
     "output_type": "stream",
     "text": [
      "00: 9.857\n",
      "01: 9.368\n",
      "02: 13.198\n",
      "03: 10.16\n",
      "04: 12.688\n",
      "05: 11.139\n",
      "06: 9.017\n",
      "07: 10.096\n",
      "08: 12.432\n",
      "09: 8.392\n",
      "10: 13.758\n",
      "11: 11.143\n",
      "12: 15.453\n",
      "13: 22.224\n",
      "14: 13.153\n",
      "15: 39.668\n",
      "16: 10.761\n",
      "17: 13.73\n",
      "18: 10.79\n",
      "19: 9.414\n",
      "20: 11.383\n",
      "21: 11.057\n",
      "22: 11.749\n",
      "23: 8.322\n"
     ]
    }
   ],
   "source": [
    "comm_by_hour_avg = []\n",
    "\n",
    "for hour in counts_by_hour:\n",
    "    avg = comments_by_hour[hour] / counts_by_hour[hour]\n",
    "    avg = round(avg, 3)\n",
    "    comm_by_hour_avg.append([hour, avg])\n",
    "    \n",
    "comm_by_hour_avg = sorted(comm_by_hour_avg)\n",
    "\n",
    "for row in comm_by_hour_avg:\n",
    "    print(row[0] + \": \" + str(row[1]))"
   ]
  },
  {
   "cell_type": "markdown",
   "metadata": {},
   "source": [
    "Now that we have the data we want, it's just a matter of making it readable. Let's create a data set that we can sort by average number of comments with `sorted()`, then we'll get the top 5 hours in which we could create our \"Ask HN\" post."
   ]
  },
  {
   "cell_type": "code",
   "execution_count": 26,
   "metadata": {},
   "outputs": [
    {
     "name": "stdout",
     "output_type": "stream",
     "text": [
      "Top 5 Hours for Ask Posts Comments\n",
      "15:00 : 39.67\n",
      "13:00 : 22.22\n",
      "12:00 : 15.45\n",
      "10:00 : 13.76\n",
      "17:00 : 13.73\n"
     ]
    }
   ],
   "source": [
    "swap_comm_by_hour_avg = []\n",
    "\n",
    "for row in comm_by_hour_avg:\n",
    "    swap_comm_by_hour_avg.append([row[1], row[0]])\n",
    "\n",
    "swap_comm_by_hour_avg = sorted(swap_comm_by_hour_avg, reverse = True)\n",
    "\n",
    "print(\"Top 5 Hours for Ask Posts Comments\")\n",
    "for row in swap_comm_by_hour_avg[:5]:\n",
    "    time = dt.datetime.strptime(row[1], \"%H\")\n",
    "    time = time.strftime(\"%H:%M\")\n",
    "    ncomm = row[0]\n",
    "    template = \"{time} : {ncomm:.2f}\"\n",
    "    print(template.format(time = time, ncomm=ncomm))\n",
    "    #print(time + \": \" + str(ncomm))"
   ]
  },
  {
   "cell_type": "markdown",
   "metadata": {},
   "source": [
    "If writing an \"Ask HN\" post, it is clear that the best time to post is during the hour of 15:00-15:59 (3:00-3:59 pm) Eastern Time. The average number of comments per post (39.67) is far higher during this hour than any other hour of the day. This hour has nearly double the average number of comments as the next highest hour (12:00: 21.9 comments). "
   ]
  },
  {
   "cell_type": "markdown",
   "metadata": {},
   "source": [
    "## Conclusions"
   ]
  },
  {
   "cell_type": "markdown",
   "metadata": {},
   "source": [
    "If our goal is to reach the Hacker News community with a post, we should post an \"Ask HN\" or a \"Show HN\" post--but we wanted to know which would be the better kind to net a large response. From the data set used here, it is clear that an \"Ask HN\" post will net more comments than a \"Show HN\" post. This was true whether we looked at the whole data sets or restrict the data sets to have less extreme values. Notably, \"Ask HN\" posts are the only ones with more than 309 comments, making it more likely--even if still quite unlikely--that our \"Ask HN\" post will get an extreme amount of comments. Furthermore, if we make our post between 3:00 and 4:00 pm Eastern Time, we are likely to receive nearly twice the amount of comments as during any other hour of the day. \n",
    "\n",
    "The only caveat to this conclusion is that we have excluded data points with zero comments. It could be true not only that \"Ask HN\" posts receive more comments, but also that they are more likely to receive no comments than \"Show HN\" posts. We have not looked into this question in the current analysis, but further anlayses could determine whether this is a problem we need to worry about."
   ]
  }
 ],
 "metadata": {
  "kernelspec": {
   "display_name": "Python 3",
   "language": "python",
   "name": "python3"
  },
  "language_info": {
   "codemirror_mode": {
    "name": "ipython",
    "version": 3
   },
   "file_extension": ".py",
   "mimetype": "text/x-python",
   "name": "python",
   "nbconvert_exporter": "python",
   "pygments_lexer": "ipython3",
   "version": "3.8.5"
  }
 },
 "nbformat": 4,
 "nbformat_minor": 4
}
